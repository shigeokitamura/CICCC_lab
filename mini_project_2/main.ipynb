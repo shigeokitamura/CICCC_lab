{
 "cells": [
  {
   "cell_type": "markdown",
   "metadata": {},
   "source": [
    "# Investigating Netflix Movies\n",
    "## Part 1\n",
    "**Netflix**! What started in 1997 as a DVD rental service has since exploded into one of the largest entertainment and media companies.\n",
    "\n",
    "Given the large number of movies and series available on the platform, it is a perfect opportunity to flex your exploratory data analysis skills and dive into the entertainment industry.\n",
    "\n",
    "You work for a production company that specializes in nostalgic styles. You want to do some research on movies released in the 1990's. You'll delve into Netflix data and perform exploratory data analysis to better understand this awesome movie decade!\n",
    "\n",
    "You have been supplied with the dataset `netflix_data.csv`, along with the following table detailing the column names and descriptions. Feel free to experiment further after submitting!\n"
   ]
  },
  {
   "cell_type": "code",
   "execution_count": 1,
   "metadata": {},
   "outputs": [],
   "source": [
    "import pandas as pd"
   ]
  },
  {
   "cell_type": "code",
   "execution_count": 2,
   "metadata": {},
   "outputs": [],
   "source": [
    "pd.set_option('display.max_rows', None)"
   ]
  },
  {
   "cell_type": "code",
   "execution_count": 3,
   "metadata": {},
   "outputs": [],
   "source": [
    "df = pd.read_csv('./netflix_data.csv', header=0)"
   ]
  },
  {
   "cell_type": "code",
   "execution_count": null,
   "metadata": {},
   "outputs": [],
   "source": [
    "df.head()"
   ]
  },
  {
   "cell_type": "markdown",
   "metadata": {},
   "source": [
    "### The data\n",
    "netflix_data.csv  \n",
    "`show_id`: The ID of the show  \n",
    "`type`: Type of show  \n",
    "`title`: Title of the show  \n",
    "`director`: Director of the show  \n",
    "`cast`: Cast of the show  \n",
    "`country`: Country of origin  \n",
    "`date_added`: Date added to Netflix  \n",
    "`release_year`: Year of Netflix release  \n",
    "`duration`: Duration of the show in minutes  \n",
    "`description`: Description of the show  \n",
    "`genre`: Show genre\n",
    "\n",
    "Perform exploratory data analysis on the `netflix_data.csv` data to understand more about movies from the 1990s decade."
   ]
  },
  {
   "cell_type": "markdown",
   "metadata": {},
   "source": [
    "* What was the most frequent movie duration in the 1990s?\n",
    "  - 94"
   ]
  },
  {
   "cell_type": "code",
   "execution_count": null,
   "metadata": {},
   "outputs": [],
   "source": [
    "df['genre'].unique()"
   ]
  },
  {
   "cell_type": "code",
   "execution_count": null,
   "metadata": {},
   "outputs": [],
   "source": [
    "movie_genres = df[~df['genre'].str.contains('TV')]['genre'].unique()\n",
    "movie_genres"
   ]
  },
  {
   "cell_type": "code",
   "execution_count": null,
   "metadata": {},
   "outputs": [],
   "source": [
    "movies_90s = df[\n",
    "    (df['release_year'].between(1990, 1999)) &\n",
    "    (df['genre'].isin(movie_genres)) &\n",
    "    (df['duration'] > 2)\n",
    "]\n",
    "most_frequent_movie_duration_90s = movies_90s['duration'].value_counts(normalize=True)\n",
    "most_frequent_movie_duration_90s.head()"
   ]
  },
  {
   "cell_type": "markdown",
   "metadata": {},
   "source": [
    "* A movie is considered short if it is less than 90 minutes. Count the number of short action movies released in the 1990s and save this integer as `short_movie_count`."
   ]
  },
  {
   "cell_type": "code",
   "execution_count": null,
   "metadata": {},
   "outputs": [],
   "source": [
    "short_action_movies_90s = df[(df['release_year'].between(1990, 1999)) & (df['genre'] == 'Action')]\n",
    "short_action_movies_90s.head()"
   ]
  },
  {
   "cell_type": "code",
   "execution_count": null,
   "metadata": {},
   "outputs": [],
   "source": [
    "short_action_movies_90s['duration'].value_counts().sort_index().head()"
   ]
  },
  {
   "cell_type": "code",
   "execution_count": null,
   "metadata": {},
   "outputs": [],
   "source": [
    "short_movie_count = len(short_action_movies_90s)\n",
    "short_movie_count"
   ]
  },
  {
   "cell_type": "markdown",
   "metadata": {},
   "source": [
    "## Part 2\n",
    "Objective:\n",
    "* To determine whether the average duration of movies on Netflix has been declining over the years.\n",
    "\n",
    "\n",
    "In this part, you will investigate the trend in the duration of movies available on Netflix. By analyzing historical data, you will determine if there is a noticeable decline in the average length of movies. This analysis will involve data cleaning, exploration, visualization, and statistical testing.\n",
    "\n",
    "Include suitable visualizations, such as charts or graphs, to investigate the trend.\n",
    "\n",
    "There are a few questions about this trend that we are worth to answer, for instance:\n",
    "* What does this trend look like over a longer period of time?\n",
    "* Is this explainable by something like the genre of entertainment?\n",
    "\n",
    "Your goal for this project is to present your findings using appropriate visualizations and statistical evidence to support their conclusions.\n"
   ]
  },
  {
   "cell_type": "code",
   "execution_count": null,
   "metadata": {},
   "outputs": [],
   "source": [
    "len(df)"
   ]
  },
  {
   "cell_type": "code",
   "execution_count": null,
   "metadata": {},
   "outputs": [],
   "source": [
    "# cleaning data\n",
    "# check for missing values\n",
    "missing_values = df.isnull().sum()\n",
    "missing_values"
   ]
  },
  {
   "cell_type": "code",
   "execution_count": 13,
   "metadata": {},
   "outputs": [],
   "source": [
    "# remove rows with missing values\n",
    "df_cleaned = df.dropna()\n",
    "df_cleaned = df_cleaned.drop_duplicates()"
   ]
  },
  {
   "cell_type": "code",
   "execution_count": null,
   "metadata": {},
   "outputs": [],
   "source": [
    "# remove duplicate rows\n",
    "data_types = df_cleaned.dtypes\n",
    "data_types"
   ]
  },
  {
   "cell_type": "code",
   "execution_count": null,
   "metadata": {},
   "outputs": [],
   "source": [
    "len(df_cleaned)"
   ]
  },
  {
   "cell_type": "code",
   "execution_count": null,
   "metadata": {},
   "outputs": [],
   "source": [
    "df_cleaned.head()"
   ]
  },
  {
   "cell_type": "code",
   "execution_count": null,
   "metadata": {},
   "outputs": [],
   "source": [
    "df_cleaned.dtypes"
   ]
  },
  {
   "cell_type": "code",
   "execution_count": 18,
   "metadata": {},
   "outputs": [],
   "source": [
    "# Importing necessary libraries for visualization\n",
    "import matplotlib.pyplot as plt\n",
    "import seaborn as sns"
   ]
  },
  {
   "cell_type": "code",
   "execution_count": null,
   "metadata": {},
   "outputs": [],
   "source": [
    "average_duration_per_genre = df_cleaned.groupby('genre')['duration'].mean().reset_index()\n",
    "\n",
    "sns.set(style='whitegrid')\n",
    "\n",
    "plt.figure(figsize=(12, 6))\n",
    "sns.barplot(data=average_duration_per_genre, x='duration', y='genre', hue='genre', palette='viridis', legend=False)\n",
    "plt.title('Average Movie Duration by Genre')\n",
    "plt.xlabel('Average Duration (minutes)')\n",
    "plt.ylabel('Genre')\n",
    "plt.grid()\n",
    "\n",
    "plt.show()"
   ]
  },
  {
   "cell_type": "code",
   "execution_count": null,
   "metadata": {},
   "outputs": [],
   "source": [
    "movie_genres = average_duration_per_genre[average_duration_per_genre['duration'] > 60]['genre'].to_numpy()\n",
    "movie_genres"
   ]
  },
  {
   "cell_type": "code",
   "execution_count": null,
   "metadata": {},
   "outputs": [],
   "source": [
    "df_movies = df_cleaned[df_cleaned['genre'].isin(movie_genres)]\n",
    "average_duration_per_genre = df_movies.groupby('genre')['duration'].mean().reset_index()\n",
    "\n",
    "sns.set(style='whitegrid')\n",
    "\n",
    "plt.figure(figsize=(12, 6))\n",
    "sns.barplot(data=average_duration_per_genre, x='duration', y='genre', hue='genre', palette='viridis', legend=False)\n",
    "plt.title('Average Movie Duration by Genre')\n",
    "plt.xlabel('Average Duration (minutes)')\n",
    "plt.ylabel('Genre')\n",
    "plt.grid()\n",
    "plt.show()"
   ]
  },
  {
   "cell_type": "code",
   "execution_count": null,
   "metadata": {},
   "outputs": [],
   "source": [
    "# Set the style of seaborn\n",
    "sns.set(style='whitegrid')\n",
    "\n",
    "# Create a histogram for the duration\n",
    "plt.figure(figsize=(12, 6))\n",
    "sns.histplot(df_movies['duration'], bins=30, kde=True)\n",
    "plt.title('Distribution of Movie Duration')\n",
    "plt.xlabel('Duration (minutes)')\n",
    "plt.ylabel('Frequency')\n",
    "plt.grid()\n",
    "plt.show()"
   ]
  },
  {
   "cell_type": "code",
   "execution_count": null,
   "metadata": {},
   "outputs": [],
   "source": [
    "# Group by release year and calculate the average duration\n",
    "average_duration_per_year = df_movies.groupby('release_year')['duration'].mean().reset_index()\n",
    "\n",
    "# Set the style of seaborn\n",
    "sns.set(style='whitegrid')\n",
    "\n",
    "# Create a line plot to visualize the trend\n",
    "plt.figure(figsize=(12, 6))\n",
    "sns.lineplot(data=average_duration_per_year, x='release_year', y='duration', marker='o')\n",
    "plt.title('Average Movie Duration Over the Years')\n",
    "plt.xlabel('Release Year')\n",
    "plt.ylabel('Average Duration (minutes)')\n",
    "plt.xticks(rotation=45)\n",
    "plt.grid()\n",
    "plt.show()"
   ]
  },
  {
   "cell_type": "code",
   "execution_count": null,
   "metadata": {},
   "outputs": [],
   "source": [
    "# Group by release year and genre, then calculate the average duration\n",
    "average_duration_per_year_genre = df_movies.groupby(['release_year', 'genre'])['duration'].mean().reset_index()\n",
    "\n",
    "# Set the style of seaborn\n",
    "sns.set(style='whitegrid')\n",
    "\n",
    "# Create a line plot to visualize the trend by genre\n",
    "plt.figure(figsize=(12, 6))\n",
    "sns.lineplot(data=average_duration_per_year_genre, x='release_year', y='duration', hue='genre', marker='o')\n",
    "plt.title('Average Movie Duration Over the Years by Genre')\n",
    "plt.xlabel('Release Year')\n",
    "plt.ylabel('Average Duration (minutes)')\n",
    "plt.xticks(rotation=45)\n",
    "plt.grid()\n",
    "plt.legend(title='Genre')\n",
    "plt.show()"
   ]
  },
  {
   "cell_type": "code",
   "execution_count": null,
   "metadata": {},
   "outputs": [],
   "source": [
    "# Create a new column for the decade\n",
    "df_movies.loc[:, 'decade'] = (df_movies['release_year'] // 10) * 10\n",
    "\n",
    "# Group by decade and genre, then calculate the average duration\n",
    "average_duration_per_decade_genre = df_movies.groupby(['decade', 'genre'])['duration'].mean().reset_index()\n",
    "\n",
    "# Set the style of seaborn\n",
    "sns.set(style='whitegrid')\n",
    "\n",
    "# Create a line plot to visualize the trend by genre\n",
    "plt.figure(figsize=(12, 6))\n",
    "sns.lineplot(data=average_duration_per_decade_genre, x='decade', y='duration', hue='genre', marker='o')\n",
    "plt.title('Average Movie Duration Over the Decades by Genre')\n",
    "plt.xlabel('Decade')\n",
    "plt.ylabel('Average Duration (minutes)')\n",
    "plt.xticks(rotation=45)\n",
    "plt.grid()\n",
    "plt.legend(title='Genre')\n",
    "plt.show()"
   ]
  },
  {
   "cell_type": "code",
   "execution_count": null,
   "metadata": {},
   "outputs": [],
   "source": [
    "# Create a new column for the decade\n",
    "df_movies.loc[:, 'decade'] = (df_movies['release_year'] // 10) * 10\n",
    "\n",
    "# Filter for decades from the 1980s onwards\n",
    "df_movies_filtered = df_movies[df_movies['decade'] >= 1980]\n",
    "\n",
    "# Group by decade and genre, then calculate the average duration\n",
    "average_duration_per_decade_genre = df_movies_filtered.groupby(['decade', 'genre'])['duration'].mean().reset_index()\n",
    "\n",
    "# Set the style of seaborn\n",
    "sns.set(style='whitegrid')\n",
    "\n",
    "# Create a line plot to visualize the trend by genre\n",
    "plt.figure(figsize=(12, 6))\n",
    "sns.lineplot(data=average_duration_per_decade_genre, x='decade', y='duration', hue='genre', marker='o')\n",
    "plt.title('Average Movie Duration Over the Decades by Genre (1980s Onwards)')\n",
    "plt.xlabel('Decade')\n",
    "plt.ylabel('Average Duration (minutes)')\n",
    "plt.xticks(rotation=45)\n",
    "plt.grid()\n",
    "plt.legend(title='Genre')\n",
    "plt.show()"
   ]
  },
  {
   "cell_type": "code",
   "execution_count": null,
   "metadata": {},
   "outputs": [],
   "source": [
    "# Filter data for the 2010s and 2020s\n",
    "average_duration_per_decade = df_movies.groupby(['decade', 'genre'])['duration'].mean().reset_index()\n",
    "\n",
    "# Get average duration for the 2010s and 2020s\n",
    "average_duration_2010s = average_duration_per_decade[average_duration_per_decade['decade'] == 2010].rename(columns={'duration': 'average_duration_2010s'})\n",
    "average_duration_2020s = average_duration_per_decade[average_duration_per_decade['decade'] == 2020].rename(columns={'duration': 'average_duration_2020s'})\n",
    "\n",
    "# Merge the two DataFrames\n",
    "merged_average_duration = pd.merge(average_duration_2010s[['genre', 'average_duration_2010s']],\n",
    "                                    average_duration_2020s[['genre', 'average_duration_2020s']],\n",
    "                                    on='genre', how='outer')\n",
    "\n",
    "# Display the result\n",
    "print(merged_average_duration)"
   ]
  },
  {
   "cell_type": "code",
   "execution_count": null,
   "metadata": {},
   "outputs": [],
   "source": [
    "# Create a new column for the decade\n",
    "df_movies.loc[:, 'decade'] = (df_movies['release_year'] // 10) * 10\n",
    "\n",
    "df_movies_filtered = df_movies[\n",
    "    (df_movies['decade'] >= 1980) &\n",
    "    (df_movies['genre'].isin(['Anime Features', 'Comedies', 'Horror Movies', 'Independent Movies', 'International Movies', 'Thrillers']))\n",
    "]\n",
    "\n",
    "# Group by decade and genre, then calculate the average duration\n",
    "average_duration_per_decade_genre = df_movies_filtered.groupby(['decade', 'genre'])['duration'].mean().reset_index()\n",
    "\n",
    "# Set the style of seaborn\n",
    "sns.set(style='whitegrid')\n",
    "\n",
    "# Create a line plot to visualize the trend by genre\n",
    "plt.figure(figsize=(12, 6))\n",
    "sns.lineplot(data=average_duration_per_decade_genre, x='decade', y='duration', hue='genre', marker='o')\n",
    "plt.title('Average Movie Duration Over the Decades by Genre (1980s Onwards)')\n",
    "plt.xlabel('Decade')\n",
    "plt.ylabel('Average Duration (minutes)')\n",
    "plt.xticks(rotation=45)\n",
    "plt.grid()\n",
    "plt.legend(title='Genre')\n",
    "plt.show()"
   ]
  },
  {
   "cell_type": "code",
   "execution_count": null,
   "metadata": {},
   "outputs": [],
   "source": []
  }
 ],
 "metadata": {
  "kernelspec": {
   "display_name": "base",
   "language": "python",
   "name": "python3"
  },
  "language_info": {
   "codemirror_mode": {
    "name": "ipython",
    "version": 3
   },
   "file_extension": ".py",
   "mimetype": "text/x-python",
   "name": "python",
   "nbconvert_exporter": "python",
   "pygments_lexer": "ipython3",
   "version": "3.12.3"
  }
 },
 "nbformat": 4,
 "nbformat_minor": 2
}
