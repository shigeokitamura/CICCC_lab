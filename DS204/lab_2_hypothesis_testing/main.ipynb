{
 "cells": [
  {
   "cell_type": "markdown",
   "metadata": {},
   "source": [
    "# Lab: Hypothesis Testing (Z-Test) with Proportions"
   ]
  },
  {
   "cell_type": "code",
   "execution_count": 1,
   "metadata": {},
   "outputs": [],
   "source": [
    "import math\n",
    "from scipy import stats"
   ]
  },
  {
   "cell_type": "markdown",
   "metadata": {},
   "source": [
    "### Question 1: One-Proportion z-test (Right-tailed Test)\n",
    "\n",
    "**Scenario**: A university claims that at least 65% of its graduates secure a job\n",
    "within six months of graduation. You survey 200 graduates and find that 120 of\n",
    "them are employed within six months. At a 5% significance level, test if the\n",
    "university's claim holds."
   ]
  },
  {
   "cell_type": "markdown",
   "metadata": {},
   "source": [
    "Null Hypothesis (H₀): p ≤ 0.65 (The proportion of graduates secure a job within six months of graduation is less than or equal 65%.)\n",
    "\n",
    "Alternative Hypothesis (H₁): p > 0.65 (The proportion of graduates secure a job within six months of graduation greater than 65%.)"
   ]
  },
  {
   "cell_type": "code",
   "execution_count": 2,
   "metadata": {},
   "outputs": [],
   "source": [
    "# Parameters\n",
    "n = 200 # sample size\n",
    "x = 120 # number of successes\n",
    "p0 = 0.65 # hypothesized proportion"
   ]
  },
  {
   "cell_type": "code",
   "execution_count": 3,
   "metadata": {},
   "outputs": [],
   "source": [
    "# Sample proportion\n",
    "p_hat = x / n"
   ]
  },
  {
   "cell_type": "code",
   "execution_count": 4,
   "metadata": {},
   "outputs": [],
   "source": [
    "# Standard error\n",
    "se = math.sqrt((p0 * (1 - p0)) / n)"
   ]
  },
  {
   "cell_type": "code",
   "execution_count": 5,
   "metadata": {},
   "outputs": [],
   "source": [
    "# z-test statistic\n",
    "z = (p_hat - p0) / se"
   ]
  },
  {
   "cell_type": "code",
   "execution_count": 6,
   "metadata": {},
   "outputs": [],
   "source": [
    "# p-value (Right-tailed test)\n",
    "p_value = 1 - stats.norm.cdf(z)"
   ]
  },
  {
   "cell_type": "code",
   "execution_count": 7,
   "metadata": {},
   "outputs": [
    {
     "name": "stdout",
     "output_type": "stream",
     "text": [
      "z-value: -1.4824986333222037\n",
      "p-value: 0.9308961665129872\n"
     ]
    }
   ],
   "source": [
    "# print values\n",
    "print(f\"z-value: {z}\")\n",
    "print(f\"p-value: {p_value}\")"
   ]
  },
  {
   "cell_type": "code",
   "execution_count": 8,
   "metadata": {},
   "outputs": [
    {
     "name": "stdout",
     "output_type": "stream",
     "text": [
      "Since the p-value (0.9308961665129872) is greater than 0.05, we fail to reject the null hypothesis. There is no significant evidence to refute the university's claim that at least 65% of its graduates secure a job\n"
     ]
    }
   ],
   "source": [
    "# print conclusion\n",
    "print(f\"Since the p-value ({p_value}) is greater than 0.05, we fail to reject the null hypothesis. There is no significant evidence to refute the university's claim that at least 65% of its graduates secure a job\")"
   ]
  },
  {
   "cell_type": "markdown",
   "metadata": {},
   "source": [
    "### Question 2: Two-Proportion z-test (Two-tailed Test)\n",
    "**Scenario**: A sports team wants to compare the proportion of people attending\n",
    "their home games to those attending away games. Out of 300 home games, 180\n",
    "attendees showed up. Out of 250 away games, 140 attendees showed up. At a 5%\n",
    "significance level, is there a significant difference between the proportions of\n",
    "attendees at home and away games?"
   ]
  },
  {
   "cell_type": "markdown",
   "metadata": {},
   "source": [
    "Null Hypothesis (H₀): p₁ = p₂ (The proportion of attendees at home games is equal to the proportion of attendees at away games.)\n",
    "\n",
    "Alternative Hypothesis (H₁): p₁ ≠ p₂ (The proportion of attendees at home games is not equal to the proportion of attendees at away games.)"
   ]
  },
  {
   "cell_type": "code",
   "execution_count": 9,
   "metadata": {},
   "outputs": [],
   "source": [
    "# Parameters\n",
    "n1 = 300 # sample size group 1\n",
    "x1 = 180 # successes group 1\n",
    "n2 = 250 # sample size group 2\n",
    "x2 = 140 # successes group 2"
   ]
  },
  {
   "cell_type": "code",
   "execution_count": 10,
   "metadata": {},
   "outputs": [],
   "source": [
    "# Sample proportions\n",
    "p1 = x1 / n1\n",
    "p2 = x2 / n2"
   ]
  },
  {
   "cell_type": "code",
   "execution_count": 11,
   "metadata": {},
   "outputs": [],
   "source": [
    "# Pooled proportion\n",
    "p_pooled = (x1 + x2) / (n1 + n2)"
   ]
  },
  {
   "cell_type": "code",
   "execution_count": 12,
   "metadata": {},
   "outputs": [],
   "source": [
    "# Standard error\n",
    "se = math.sqrt(p_pooled * (1 - p_pooled) * ((1 / n1) + (1 / n2)))"
   ]
  },
  {
   "cell_type": "code",
   "execution_count": 13,
   "metadata": {},
   "outputs": [],
   "source": [
    "# z-test statistic\n",
    "z = (p1 - p2) / se"
   ]
  },
  {
   "cell_type": "code",
   "execution_count": 14,
   "metadata": {},
   "outputs": [],
   "source": [
    "# p-value (two-tailed test)\n",
    "p_value = 2 * (1 - stats.norm.cdf(abs(z)))"
   ]
  },
  {
   "cell_type": "code",
   "execution_count": 15,
   "metadata": {},
   "outputs": [
    {
     "name": "stdout",
     "output_type": "stream",
     "text": [
      "z-value: 0.9469631093314982\n",
      "p-value: 0.3436575774939177\n"
     ]
    }
   ],
   "source": [
    "# print values\n",
    "print(f\"z-value: {z}\")\n",
    "print(f\"p-value: {p_value}\")"
   ]
  },
  {
   "cell_type": "code",
   "execution_count": 16,
   "metadata": {},
   "outputs": [
    {
     "name": "stdout",
     "output_type": "stream",
     "text": [
      "Since the p-value (0.3436575774939177) is greater than 0.05, we fail to reject the null hypothesis. There is no significant difference between the proportions of attendees at home and away games.\n"
     ]
    }
   ],
   "source": [
    "# print conclusion\n",
    "print(f\"Since the p-value ({p_value}) is greater than 0.05, we fail to reject the null hypothesis. There is no significant difference between the proportions of attendees at home and away games.\")"
   ]
  },
  {
   "cell_type": "markdown",
   "metadata": {},
   "source": [
    "### Question 3: One-Proportion z-test (Left-tailed Test)\n",
    "\n",
    "**Scenario**: A school claims that at least 75% of its students pass a standardized\n",
    "exam. You survey 150 students and find that 100 of them passed. Is the school's\n",
    "claim valid at the 5% significance level?"
   ]
  },
  {
   "cell_type": "markdown",
   "metadata": {},
   "source": [
    "Null Hypothesis (H₀): p ≤ 0.75 (The proportion of students passing the standardized exam is less than or equal to 75%.)\n",
    "\n",
    "Alternative Hypothesis (H₁): p > 0.75 (The proportion of students passing the standardized exam is greater than 75%.)"
   ]
  },
  {
   "cell_type": "code",
   "execution_count": 17,
   "metadata": {},
   "outputs": [],
   "source": [
    "# Parameters\n",
    "n = 150 # sample size\n",
    "x = 100 # number of successes\n",
    "p0 = 0.75 # hypothesized proportion"
   ]
  },
  {
   "cell_type": "code",
   "execution_count": 18,
   "metadata": {},
   "outputs": [],
   "source": [
    "# Sample proportion\n",
    "p_hat = x / n"
   ]
  },
  {
   "cell_type": "code",
   "execution_count": 19,
   "metadata": {},
   "outputs": [],
   "source": [
    "# Standard error\n",
    "se = math.sqrt((p0 * (1 - p0)) / n)"
   ]
  },
  {
   "cell_type": "code",
   "execution_count": 20,
   "metadata": {},
   "outputs": [],
   "source": [
    "# z-test statistic\n",
    "z = (p_hat - p0) / se"
   ]
  },
  {
   "cell_type": "code",
   "execution_count": 21,
   "metadata": {},
   "outputs": [],
   "source": [
    "# p-value (Left-tailed test)\n",
    "p_value = stats.norm.cdf(abs(z))"
   ]
  },
  {
   "cell_type": "code",
   "execution_count": 22,
   "metadata": {},
   "outputs": [
    {
     "name": "stdout",
     "output_type": "stream",
     "text": [
      "z-value: -2.3570226039551594\n",
      "p-value: 0.9907889372729505\n"
     ]
    }
   ],
   "source": [
    "# print values\n",
    "print(f\"z-value: {z}\")\n",
    "print(f\"p-value: {p_value}\")"
   ]
  },
  {
   "cell_type": "code",
   "execution_count": 23,
   "metadata": {},
   "outputs": [
    {
     "name": "stdout",
     "output_type": "stream",
     "text": [
      "Since the p-value (0.9907889372729505) is greater than 0.05, we fail to reject the null hypothesis. There is no significant evidence to refute the school's claim that at least 75% of its students pass a standardized exam.\n"
     ]
    }
   ],
   "source": [
    "# print conclusion\n",
    "print(f\"Since the p-value ({p_value}) is greater than 0.05, we fail to reject the null hypothesis. There is no significant evidence to refute the school's claim that at least 75% of its students pass a standardized exam.\")"
   ]
  },
  {
   "cell_type": "markdown",
   "metadata": {},
   "source": [
    "### Question 4: Two-Proportion z-test (Right-tailed Test)\n",
    "\n",
    "**Scenario**: A company is comparing the promotion rates between male and female\n",
    "employees. The company claims that males are promoted at a higher rate than\n",
    "females. Out of 80 male employees, 45 have been promoted, and out of 70 female\n",
    "employees, 35 have been promoted. Test if males are promoted at a higher rate\n",
    "than females at the 5% significance level."
   ]
  },
  {
   "cell_type": "markdown",
   "metadata": {},
   "source": [
    "Null Hypothesis (H₀): p₁ = p₂ (The promotion rates of male and female employees are equal.)\n",
    "\n",
    "Alternative Hypothesis (H₁): p₁ ≠ p₂ (The promotion rate of male employees is greater than that of female employees.)"
   ]
  },
  {
   "cell_type": "code",
   "execution_count": 24,
   "metadata": {},
   "outputs": [],
   "source": [
    "# Parameters\n",
    "n1 = 80 # sample size group 1\n",
    "x1 = 45 # successes group 1\n",
    "n2 = 70 # sample size group 2\n",
    "x2 = 35 # successes group 2"
   ]
  },
  {
   "cell_type": "code",
   "execution_count": 25,
   "metadata": {},
   "outputs": [],
   "source": [
    "# Sample proportions\n",
    "p1 = x1 / n1\n",
    "p2 = x2 / n2"
   ]
  },
  {
   "cell_type": "code",
   "execution_count": 26,
   "metadata": {},
   "outputs": [],
   "source": [
    "# Pooled proportion\n",
    "p_pooled = (x1 + x2) / (n1 + n2)"
   ]
  },
  {
   "cell_type": "code",
   "execution_count": 27,
   "metadata": {},
   "outputs": [],
   "source": [
    "# Standard error\n",
    "se = math.sqrt(p_pooled * (1 - p_pooled) * ((1 / n1) + (1 / n2)))"
   ]
  },
  {
   "cell_type": "code",
   "execution_count": 28,
   "metadata": {},
   "outputs": [],
   "source": [
    "# z-test statistic\n",
    "z = (p1 - p2) / se"
   ]
  },
  {
   "cell_type": "code",
   "execution_count": 29,
   "metadata": {},
   "outputs": [],
   "source": [
    "# p-value (Right-tailed test)\n",
    "p_value = 1 - stats.norm.cdf(abs(z))"
   ]
  },
  {
   "cell_type": "code",
   "execution_count": 30,
   "metadata": {},
   "outputs": [
    {
     "name": "stdout",
     "output_type": "stream",
     "text": [
      "z-value: 0.7654655446197431\n",
      "p-value: 0.2219971880115048\n"
     ]
    }
   ],
   "source": [
    "# print values\n",
    "print(f\"z-value: {z}\")\n",
    "print(f\"p-value: {p_value}\")"
   ]
  },
  {
   "cell_type": "code",
   "execution_count": 31,
   "metadata": {},
   "outputs": [
    {
     "name": "stdout",
     "output_type": "stream",
     "text": [
      "Since the p-value (0.2219971880115048) is greater than 0.05, we fail to reject the null hypothesis. There is no significant evidence to refute the company's claim that that males are promoted at a higher rate than females.\n"
     ]
    }
   ],
   "source": [
    "# print conclusion\n",
    "print(f\"Since the p-value ({p_value}) is greater than 0.05, we fail to reject the null hypothesis. There is no significant evidence to refute the company's claim that that males are promoted at a higher rate than females.\")"
   ]
  },
  {
   "cell_type": "markdown",
   "metadata": {},
   "source": [
    "### Question 5: One-Proportion z-test (Two-tailed Test)\n",
    "\n",
    "Scenario: A car dealership claims that 40% of their sales come from repeat\n",
    "customers. You sample 100 sales records and find that 30 of them are from repeat customers. Test whether the dealership's claim is accurate at a 5% significance\n",
    "level."
   ]
  },
  {
   "cell_type": "markdown",
   "metadata": {},
   "source": [
    "Null Hypothesis (H₀): p₁ = p₂ (The proportion of sales from repeat customers is equal to 40%.)\n",
    "\n",
    "Alternative Hypothesis (H₁): p₁ ≠ p₂ ( The proportion of sales from repeat customers is not equal to 40%.)"
   ]
  },
  {
   "cell_type": "code",
   "execution_count": 32,
   "metadata": {},
   "outputs": [],
   "source": [
    "# Parameters\n",
    "n = 100 # sample size\n",
    "x = 30 # number of successes\n",
    "p0 = 0.40 # hypothesized proportion"
   ]
  },
  {
   "cell_type": "code",
   "execution_count": 33,
   "metadata": {},
   "outputs": [],
   "source": [
    "# Sample proportion\n",
    "p_hat = x / n"
   ]
  },
  {
   "cell_type": "code",
   "execution_count": 34,
   "metadata": {},
   "outputs": [],
   "source": [
    "# Standard error\n",
    "se = math.sqrt((p0 * (1 - p0)) / n)"
   ]
  },
  {
   "cell_type": "code",
   "execution_count": 35,
   "metadata": {},
   "outputs": [],
   "source": [
    "# z-test statistic\n",
    "z = (p_hat - p0) / se"
   ]
  },
  {
   "cell_type": "code",
   "execution_count": 36,
   "metadata": {},
   "outputs": [],
   "source": [
    "# p-value (two-tailed test)\n",
    "p_value = 2 * (1 - stats.norm.cdf(abs(z)))"
   ]
  },
  {
   "cell_type": "code",
   "execution_count": 37,
   "metadata": {},
   "outputs": [
    {
     "name": "stdout",
     "output_type": "stream",
     "text": [
      "z-value: -2.041241452319316\n",
      "p-value: 0.04122683333716348\n"
     ]
    }
   ],
   "source": [
    "# print values\n",
    "print(f\"z-value: {z}\")\n",
    "print(f\"p-value: {p_value}\")"
   ]
  },
  {
   "cell_type": "code",
   "execution_count": 39,
   "metadata": {},
   "outputs": [
    {
     "name": "stdout",
     "output_type": "stream",
     "text": [
      "Since the p-value (0.04122683333716348) is less than 0.05, we reject the null hypothesis. There is sufficient evidence to conclude the car dealership's claim that 40% of their sales come from repeat customers.\n"
     ]
    }
   ],
   "source": [
    "# print conclusion\n",
    "print(f\"Since the p-value ({p_value}) is less than 0.05, we reject the null hypothesis. There is sufficient evidence to conclude the car dealership's claim that 40% of their sales come from repeat customers.\")"
   ]
  },
  {
   "cell_type": "code",
   "execution_count": null,
   "metadata": {},
   "outputs": [],
   "source": []
  }
 ],
 "metadata": {
  "kernelspec": {
   "display_name": "python_3_13_0",
   "language": "python",
   "name": "python3"
  },
  "language_info": {
   "codemirror_mode": {
    "name": "ipython",
    "version": 3
   },
   "file_extension": ".py",
   "mimetype": "text/x-python",
   "name": "python",
   "nbconvert_exporter": "python",
   "pygments_lexer": "ipython3",
   "version": "3.13.0"
  }
 },
 "nbformat": 4,
 "nbformat_minor": 2
}
