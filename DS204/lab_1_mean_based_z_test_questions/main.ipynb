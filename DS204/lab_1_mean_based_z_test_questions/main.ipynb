{
 "cells": [
  {
   "cell_type": "markdown",
   "metadata": {},
   "source": [
    "# In-Class Lab: Mean-Based Z-Test Questions"
   ]
  },
  {
   "cell_type": "markdown",
   "metadata": {},
   "source": [
    "**Instructions**\n",
    "\n",
    "For each question, follow these steps:\n",
    "1. State the Null Hypothesis (H₀) and Alternative Hypothesis (H₁).\n",
    "2. Calculate the Z-score and p-value.\n",
    "3. Compare the p-value with the significance level (α = 0.05).\n",
    "4. Draw a conclusion: Decide whether to reject or fail to reject the null\n",
    "hypothesis."
   ]
  },
  {
   "cell_type": "code",
   "execution_count": 1,
   "metadata": {},
   "outputs": [],
   "source": [
    "import numpy as np\n",
    "import scipy.stats as stats"
   ]
  },
  {
   "cell_type": "markdown",
   "metadata": {},
   "source": [
    "## Question 1: Average Time on a Website\n",
    "**Scenario**: A website owner claims that the average time a visitor spends on their\n",
    "site is 10 minutes. A sample of 100 visitors shows an average time of 9.8 minutes with a population standard deviation of 1.5 minutes.\n",
    "\n",
    "**Task**: Test the website owner's claim at a 5% significance level."
   ]
  },
  {
   "cell_type": "markdown",
   "metadata": {},
   "source": [
    "Null Hypothesis (H₀): The average time visitors spend on the website is 10 minutes. (μ = 10)\n",
    "\n",
    "Alternative Hypothesis (H₁): The average time visitors spend on the website is not 10 minutes. (μ ≠ 10)"
   ]
  },
  {
   "cell_type": "code",
   "execution_count": 2,
   "metadata": {},
   "outputs": [],
   "source": [
    "# Given data\n",
    "claimed_mean = 10\n",
    "sample_mean = 9.8\n",
    "sample_std = 1.5\n",
    "sample_size = 100"
   ]
  },
  {
   "cell_type": "code",
   "execution_count": 3,
   "metadata": {},
   "outputs": [],
   "source": [
    "# Calculate the Z-score\n",
    "z = (sample_mean - claimed_mean) / (sample_std / np.sqrt(sample_size))\n",
    "p_value = 2 * (1 - stats.norm.cdf(abs(z))) # two-tailed p-value"
   ]
  },
  {
   "cell_type": "code",
   "execution_count": 4,
   "metadata": {},
   "outputs": [
    {
     "name": "stdout",
     "output_type": "stream",
     "text": [
      "Z-score: -1.3333333333333286\n",
      "P-value: 0.18242243945173708\n"
     ]
    }
   ],
   "source": [
    "# Output the results\n",
    "print(f\"Z-score: {z}\")\n",
    "print(f\"P-value: {p_value}\")"
   ]
  },
  {
   "cell_type": "code",
   "execution_count": 5,
   "metadata": {},
   "outputs": [
    {
     "name": "stdout",
     "output_type": "stream",
     "text": [
      "Fail to reject the null hypothesis: The sample mean hour is not significantly different from the claimed average.\n"
     ]
    }
   ],
   "source": [
    "# Conclusion\n",
    "if p_value < 0.05:\n",
    "    print(\"Reject the null hypothesis: The sample mean hour is significantly different from the claimed average.\")\n",
    "else:\n",
    "    print(\"Fail to reject the null hypothesis: The sample mean hour is not significantly different from the claimed average.\")"
   ]
  },
  {
   "cell_type": "markdown",
   "metadata": {},
   "source": [
    "## Question 2: Battery Life of Smartphones\n",
    "\n",
    "**Scenario**: A smartphone manufacturer claims that the average battery life of their\n",
    "new model is at least 20 hours. A sample of 80 phones shows an average battery\n",
    "life of 19.5 hours with a population standard deviation of 1.2 hours.\n",
    "\n",
    "**Task**: Test the manufacturer's claim at a 5% significance level."
   ]
  },
  {
   "cell_type": "markdown",
   "metadata": {},
   "source": [
    "Null Hypothesis (H₀): The average battery life is at least 20 hours. (μ >= 20)\n",
    "\n",
    "Alternative Hypothesis (H₁): The average battery life is less than 20 hours. (μ < 20)"
   ]
  },
  {
   "cell_type": "code",
   "execution_count": 6,
   "metadata": {},
   "outputs": [],
   "source": [
    "# Given data\n",
    "claimed_mean = 20\n",
    "sample_mean = 19.5\n",
    "sample_std = 1.2\n",
    "sample_size = 80"
   ]
  },
  {
   "cell_type": "code",
   "execution_count": 7,
   "metadata": {},
   "outputs": [],
   "source": [
    "# Calculate the Z-score and p-value.  Note this is a one-tailed test.\n",
    "z = (sample_mean - claimed_mean) / (sample_std / np.sqrt(sample_size))\n",
    "p_value = stats.norm.cdf(z) # one-tailed p-value"
   ]
  },
  {
   "cell_type": "code",
   "execution_count": 8,
   "metadata": {},
   "outputs": [
    {
     "name": "stdout",
     "output_type": "stream",
     "text": [
      "Z-score: -3.7267799624996503\n",
      "P-value: 9.697081455185922e-05\n"
     ]
    }
   ],
   "source": [
    "# Output the results\n",
    "print(f\"Z-score: {z}\")\n",
    "print(f\"P-value: {p_value}\")"
   ]
  },
  {
   "cell_type": "code",
   "execution_count": 9,
   "metadata": {},
   "outputs": [
    {
     "name": "stdout",
     "output_type": "stream",
     "text": [
      "Reject the null hypothesis: The average battery life is significantly less than 20 hours.\n"
     ]
    }
   ],
   "source": [
    "# Conclusion\n",
    "if p_value < 0.05:\n",
    "    print(\"Reject the null hypothesis: The average battery life is significantly less than 20 hours.\")\n",
    "else:\n",
    "    print(\"Fail to reject the null hypothesis: The average battery life is not significantly less than 20 hours.\")\n"
   ]
  },
  {
   "cell_type": "markdown",
   "metadata": {},
   "source": [
    "## Question 3: Average Weekly Hours Worked\n",
    "\n",
    "**Scenario**: A company claims that their employees work an average of 40 hours\n",
    "per week. A sample of 150 employees shows an average workweek of 39.6 hours\n",
    "with a population standard deviation of 2.0 hours.\n",
    "\n",
    "**Task**: Test the company's claim at a 5% significance level."
   ]
  },
  {
   "cell_type": "markdown",
   "metadata": {},
   "source": [
    "Null Hypothesis (H₀): The average weekly hours worked is 40 hours. (μ = 40)\n",
    "\n",
    "Alternative Hypothesis (H₁): The average weekly hours worked is not 40 hours. (μ ≠ 40)"
   ]
  },
  {
   "cell_type": "code",
   "execution_count": 10,
   "metadata": {},
   "outputs": [],
   "source": [
    "# Given data\n",
    "claimed_mean = 40\n",
    "sample_mean = 39.6\n",
    "sample_std = 2.0\n",
    "sample_size = 150"
   ]
  },
  {
   "cell_type": "code",
   "execution_count": 11,
   "metadata": {},
   "outputs": [],
   "source": [
    "# Calculate the Z-score and p-value (two-tailed test)\n",
    "z = (sample_mean - claimed_mean) / (sample_std / np.sqrt(sample_size))\n",
    "p_value = 2 * (1 - stats.norm.cdf(abs(z))) # two-tailed p-value"
   ]
  },
  {
   "cell_type": "code",
   "execution_count": 12,
   "metadata": {},
   "outputs": [
    {
     "name": "stdout",
     "output_type": "stream",
     "text": [
      "Z-score: -2.4494897427831694\n",
      "P-value: 0.014305878435429964\n"
     ]
    }
   ],
   "source": [
    "# Output the results\n",
    "print(f\"Z-score: {z}\")\n",
    "print(f\"P-value: {p_value}\")"
   ]
  },
  {
   "cell_type": "code",
   "execution_count": 13,
   "metadata": {},
   "outputs": [
    {
     "name": "stdout",
     "output_type": "stream",
     "text": [
      "Reject the null hypothesis: The average weekly hours worked is significantly different from 40 hours.\n"
     ]
    }
   ],
   "source": [
    "# Conclusion\n",
    "if p_value < 0.05:\n",
    "    print(\"Reject the null hypothesis: The average weekly hours worked is significantly different from 40 hours.\")\n",
    "else:\n",
    "    print(\"Fail to reject the null hypothesis: The average weekly hours worked is not significantly different from 40 hours.\")\n"
   ]
  },
  {
   "cell_type": "markdown",
   "metadata": {},
   "source": [
    "## Question 4: Weight of Packaged Goods\n",
    "\n",
    "**Scenario**: A food processing company claims that their packaged goods weigh an\n",
    "average of 500 grams. A sample of 120 packages shows an average weight of\n",
    "498 grams with a population standard deviation of 5 grams.\n",
    "\n",
    "**Task**: Test the company's claim at a 5% significance level."
   ]
  },
  {
   "cell_type": "markdown",
   "metadata": {},
   "source": [
    "Null Hypothesis (H₀): The average weight of packaged goods is 500 grams. (μ = 500)\n",
    "\n",
    "Alternative Hypothesis (H₁): The average weight of packed goods is not 500 grams. (μ ≠ 500)"
   ]
  },
  {
   "cell_type": "code",
   "execution_count": 14,
   "metadata": {},
   "outputs": [],
   "source": [
    "# Given data\n",
    "claimed_mean = 500\n",
    "sample_mean = 498\n",
    "sample_std = 5\n",
    "sample_size = 120"
   ]
  },
  {
   "cell_type": "code",
   "execution_count": 15,
   "metadata": {},
   "outputs": [],
   "source": [
    "# Calculate the Z-score and p-value (two-tailed test)\n",
    "z = (sample_mean - claimed_mean) / (sample_std / np.sqrt(sample_size))\n",
    "p_value = 2 * (1 - stats.norm.cdf(abs(z)))"
   ]
  },
  {
   "cell_type": "code",
   "execution_count": 16,
   "metadata": {},
   "outputs": [
    {
     "name": "stdout",
     "output_type": "stream",
     "text": [
      "Z-score: -4.381780460041329\n",
      "P-value: 1.1771339097688127e-05\n"
     ]
    }
   ],
   "source": [
    "# Output the results\n",
    "print(f\"Z-score: {z}\")\n",
    "print(f\"P-value: {p_value}\")"
   ]
  },
  {
   "cell_type": "code",
   "execution_count": 17,
   "metadata": {},
   "outputs": [
    {
     "name": "stdout",
     "output_type": "stream",
     "text": [
      "Reject the null hypothesis: The average weight of packaged goods is significantly different from 500 grams.\n"
     ]
    }
   ],
   "source": [
    "# Conclusion (two-tailed test)\n",
    "if p_value < 0.05:\n",
    "    print(\"Reject the null hypothesis: The average weight of packaged goods is significantly different from 500 grams.\")\n",
    "else:\n",
    "    print(\"Fail to reject the null hypothesis: The average weight of packaged goods is not significantly different from 500 grams.\")"
   ]
  },
  {
   "cell_type": "markdown",
   "metadata": {},
   "source": [
    "## Question 5: Average Speed of Delivery\n",
    "\n",
    "**Scenario**: A delivery company claims that the average delivery time for their\n",
    "services is less than 3 hours. A sample of 60 deliveries shows an average\n",
    "delivery time of 3.2 hours with a population standard deviation of 0.6 hours.\n",
    "\n",
    "**Task**: Test the company's claim at a 5% significance level."
   ]
  },
  {
   "cell_type": "markdown",
   "metadata": {},
   "source": [
    "Null Hypothesis (H₀): The average delivery time is less than or equal to 3 hours. (μ ≤ 3)\n",
    "\n",
    "Alternative Hypothesis (H₁): The average delivery time is greater than 3 hours. (μ > 3)"
   ]
  },
  {
   "cell_type": "code",
   "execution_count": 18,
   "metadata": {},
   "outputs": [],
   "source": [
    "# Given data\n",
    "claimed_mean = 3\n",
    "sample_mean = 3.2\n",
    "sample_std = 0.6\n",
    "sample_size = 60"
   ]
  },
  {
   "cell_type": "code",
   "execution_count": 19,
   "metadata": {},
   "outputs": [],
   "source": [
    "# Calculate the Z-score and p-value (one-tailed test)\n",
    "z = (sample_mean - claimed_mean) / (sample_std / np.sqrt(sample_size))\n",
    "p_value = 1 - stats.norm.cdf(z) #one-tailed p-value (right tail)"
   ]
  },
  {
   "cell_type": "code",
   "execution_count": 20,
   "metadata": {},
   "outputs": [
    {
     "name": "stdout",
     "output_type": "stream",
     "text": [
      "Z-score: 2.5819888974716134\n",
      "P-value: 0.004911637253759538\n"
     ]
    }
   ],
   "source": [
    "# Output the results\n",
    "print(f\"Z-score: {z}\")\n",
    "print(f\"P-value: {p_value}\")"
   ]
  },
  {
   "cell_type": "code",
   "execution_count": 21,
   "metadata": {},
   "outputs": [
    {
     "name": "stdout",
     "output_type": "stream",
     "text": [
      "Reject the null hypothesis: The average delivery time is significantly greater than 3 hours.\n"
     ]
    }
   ],
   "source": [
    "# Conclusion (one-tailed test)\n",
    "if p_value < 0.05:\n",
    "    print(\"Reject the null hypothesis: The average delivery time is significantly greater than 3 hours.\")\n",
    "else:\n",
    "    print(\"Fail to reject the null hypothesis: There is not enough evidence to say the average delivery time is greater than 3 hours.\")\n"
   ]
  },
  {
   "cell_type": "markdown",
   "metadata": {},
   "source": [
    "## Question 6: Average Daily Water Consumption\n",
    "\n",
    "**Scenario**: A city claims that the average daily water consumption per household is more than 160 liters. A sample of 90 households shows an average consumption of 158 liters with a population standard deviation of 10 liters.\n",
    "\n",
    "**Task**: Test the city's claim at a 5% significance level."
   ]
  },
  {
   "cell_type": "markdown",
   "metadata": {},
   "source": [
    "Null Hypothesis (H₀): The average daily water consumption is less than or equal to 160 liters. (μ ≤ 160)\n",
    "\n",
    "Alternative Hypothesis (H₁): The average daily water consumption is greater than 160 liters. (μ > 160)"
   ]
  },
  {
   "cell_type": "code",
   "execution_count": 22,
   "metadata": {},
   "outputs": [],
   "source": [
    "# Given data\n",
    "claimed_mean = 160\n",
    "sample_mean = 158\n",
    "sample_std = 10\n",
    "sample_size = 90"
   ]
  },
  {
   "cell_type": "code",
   "execution_count": 23,
   "metadata": {},
   "outputs": [],
   "source": [
    "# Calculate the Z-score and p-value (one-tailed test)\n",
    "z = (sample_mean - claimed_mean) / (sample_std / np.sqrt(sample_size))\n",
    "p_value = 1 - stats.norm.cdf(z) #one-tailed p-value (right tail)."
   ]
  },
  {
   "cell_type": "code",
   "execution_count": 24,
   "metadata": {},
   "outputs": [
    {
     "name": "stdout",
     "output_type": "stream",
     "text": [
      "Z-score: -1.8973665961010275\n",
      "P-value: 0.9711102144382013\n"
     ]
    }
   ],
   "source": [
    "# Output the results\n",
    "print(f\"Z-score: {z}\")\n",
    "print(f\"P-value: {p_value}\")"
   ]
  },
  {
   "cell_type": "code",
   "execution_count": 25,
   "metadata": {},
   "outputs": [
    {
     "name": "stdout",
     "output_type": "stream",
     "text": [
      "Fail to reject the null hypothesis: There is not enough evidence to say the average daily water consumption is greater than 160 liters.\n"
     ]
    }
   ],
   "source": [
    "# Conclusion (one-tailed test)\n",
    "if p_value < 0.05:\n",
    "    print(\"Reject the null hypothesis: The average daily water consumption is significantly greater than 160 liters.\")\n",
    "else:\n",
    "    print(\"Fail to reject the null hypothesis: There is not enough evidence to say the average daily water consumption is greater than 160 liters.\")"
   ]
  },
  {
   "cell_type": "markdown",
   "metadata": {},
   "source": [
    "## Question 7: Average SAT Scores\n",
    "\n",
    "**Scenario**: A school district claims that their students have an average SAT score\n",
    "of 1100. A sample of 200 students shows an average score of 1085 with a\n",
    "population standard deviation of 30 points.\n",
    "\n",
    "**Task**: Test the school district's claim at a 5% significance level."
   ]
  },
  {
   "cell_type": "markdown",
   "metadata": {},
   "source": [
    "Null Hypothesis (H₀): The average SAT score is 1100. (μ = 1100)\n",
    "\n",
    "Alternative Hypothesis (H₁): The average SAT score is not 1100. (μ ≠ 1100)"
   ]
  },
  {
   "cell_type": "code",
   "execution_count": 26,
   "metadata": {},
   "outputs": [],
   "source": [
    "# Given data\n",
    "claimed_mean = 1100\n",
    "sample_mean = 1085\n",
    "sample_std = 30\n",
    "sample_size = 200"
   ]
  },
  {
   "cell_type": "code",
   "execution_count": 27,
   "metadata": {},
   "outputs": [],
   "source": [
    "# Calculate the Z-score and p-value (two-tailed test)\n",
    "z = (sample_mean - claimed_mean) / (sample_std / np.sqrt(sample_size))\n",
    "p_value = 2 * (1 - stats.norm.cdf(abs(z)))"
   ]
  },
  {
   "cell_type": "code",
   "execution_count": 28,
   "metadata": {},
   "outputs": [
    {
     "name": "stdout",
     "output_type": "stream",
     "text": [
      "Z-score: -7.0710678118654755\n",
      "P-value: 1.5374368445009168e-12\n"
     ]
    }
   ],
   "source": [
    "# Output the results\n",
    "print(f\"Z-score: {z}\")\n",
    "print(f\"P-value: {p_value}\")"
   ]
  },
  {
   "cell_type": "code",
   "execution_count": 29,
   "metadata": {},
   "outputs": [
    {
     "name": "stdout",
     "output_type": "stream",
     "text": [
      "Reject the null hypothesis: The average SAT score is significantly different from 1100.\n"
     ]
    }
   ],
   "source": [
    "# Conclusion\n",
    "if p_value < 0.05:\n",
    "    print(\"Reject the null hypothesis: The average SAT score is significantly different from 1100.\")\n",
    "else:\n",
    "    print(\"Fail to reject the null hypothesis: The average SAT score is not significantly different from 1100.\")"
   ]
  },
  {
   "cell_type": "markdown",
   "metadata": {},
   "source": [
    "## Question 8: Average Time Spent Exercising\n",
    "\n",
    "**Scenario**: A fitness app claims that its users spend at least 45 minutes exercising\n",
    "daily. A sample of 95 users shows an average exercise time of 44 minutes with a\n",
    "population standard deviation of 4 minutes.\n",
    "\n",
    "**Task**: Test the app's claim at a 5% significance level."
   ]
  },
  {
   "cell_type": "markdown",
   "metadata": {},
   "source": [
    "Null Hypothesis (H₀): The average exercise time is at least 45 minutes. (μ >= 45)\n",
    "\n",
    "Alternative Hypothesis (H₁): The average exercise time is less than 45 minutes. (μ < 45)"
   ]
  },
  {
   "cell_type": "code",
   "execution_count": 30,
   "metadata": {},
   "outputs": [],
   "source": [
    "# Given data\n",
    "claimed_mean = 45\n",
    "sample_mean = 44\n",
    "sample_std = 4\n",
    "sample_size = 95"
   ]
  },
  {
   "cell_type": "code",
   "execution_count": 31,
   "metadata": {},
   "outputs": [],
   "source": [
    "# Calculate the Z-score and p-value (one-tailed test)\n",
    "z = (sample_mean - claimed_mean) / (sample_std / np.sqrt(sample_size))\n",
    "p_value = stats.norm.cdf(z) #one-tailed p-value (left tail)"
   ]
  },
  {
   "cell_type": "code",
   "execution_count": 32,
   "metadata": {},
   "outputs": [
    {
     "name": "stdout",
     "output_type": "stream",
     "text": [
      "Z-score: -2.436698586202241\n",
      "P-value: 0.007411014184037265\n"
     ]
    }
   ],
   "source": [
    "# Output the results\n",
    "print(f\"Z-score: {z}\")\n",
    "print(f\"P-value: {p_value}\")"
   ]
  },
  {
   "cell_type": "code",
   "execution_count": 33,
   "metadata": {},
   "outputs": [
    {
     "name": "stdout",
     "output_type": "stream",
     "text": [
      "Reject the null hypothesis: The average exercise time is significantly less than 45 minutes.\n"
     ]
    }
   ],
   "source": [
    "# Conclusion (one-tailed test)\n",
    "if p_value < 0.05:\n",
    "    print(\"Reject the null hypothesis: The average exercise time is significantly less than 45 minutes.\")\n",
    "else:\n",
    "    print(\"Fail to reject the null hypothesis: There is not enough evidence to say the average exercise time is less than 45 minutes.\")"
   ]
  },
  {
   "cell_type": "markdown",
   "metadata": {},
   "source": [
    "## Question 9: Average Monthly Rent\n",
    "\n",
    "**Scenario**: A real estate company claims that the average monthly rent in a\n",
    "particular city is $1,500. A sample of 70 apartments shows an average rent of\n",
    "$1,470 with a population standard deviation of $80.\n",
    "\n",
    "**Task**: Test the real estate company's claim at a 5% significance level."
   ]
  },
  {
   "cell_type": "markdown",
   "metadata": {},
   "source": [
    "Null Hypothesis (H₀): The average monthly rent is $1500. (μ = 1500)\n",
    "\n",
    "Alternative Hypothesis (H₁): The average monthly rent is not $1500. (μ ≠ 1500)\n"
   ]
  },
  {
   "cell_type": "code",
   "execution_count": 34,
   "metadata": {},
   "outputs": [],
   "source": [
    "# Given data\n",
    "claimed_mean = 1500\n",
    "sample_mean = 1470\n",
    "sample_std = 80\n",
    "sample_size = 70"
   ]
  },
  {
   "cell_type": "code",
   "execution_count": 35,
   "metadata": {},
   "outputs": [],
   "source": [
    "# Calculate the Z-score and p-value (two-tailed test)\n",
    "z = (sample_mean - claimed_mean) / (sample_std / np.sqrt(sample_size))\n",
    "p_value = 2 * (1 - stats.norm.cdf(abs(z)))"
   ]
  },
  {
   "cell_type": "code",
   "execution_count": 36,
   "metadata": {},
   "outputs": [
    {
     "name": "stdout",
     "output_type": "stream",
     "text": [
      "Z-score: -3.1374750995027836\n",
      "P-value: 0.0017040974810746956\n"
     ]
    }
   ],
   "source": [
    "# Output the results\n",
    "print(f\"Z-score: {z}\")\n",
    "print(f\"P-value: {p_value}\")"
   ]
  },
  {
   "cell_type": "code",
   "execution_count": 37,
   "metadata": {},
   "outputs": [
    {
     "name": "stdout",
     "output_type": "stream",
     "text": [
      "Reject the null hypothesis: The average monthly rent is significantly different from $1500.\n"
     ]
    }
   ],
   "source": [
    "# Conclusion (two-tailed test)\n",
    "if p_value < 0.05:\n",
    "    print(\"Reject the null hypothesis: The average monthly rent is significantly different from $1500.\")\n",
    "else:\n",
    "    print(\"Fail to reject the null hypothesis: The average monthly rent is not significantly different from $1500.\")"
   ]
  },
  {
   "cell_type": "markdown",
   "metadata": {},
   "source": [
    "## Question 10: Average Weight Loss\n",
    "\n",
    "**Scenario**: A weight loss program claims that participants lose at least 12 kg in 3\n",
    "months. A sample of 50 participants shows an average weight loss of 11.5 kg with\n",
    "a population standard deviation of 1.8 kg.\n",
    "\n",
    "**Task**: Test the program's claim at a 5% significance level"
   ]
  },
  {
   "cell_type": "markdown",
   "metadata": {},
   "source": [
    "Null Hypothesis (H₀): The average weight loss is at least 12 kg. (μ >= 12)\n",
    "\n",
    "Alternative Hypothesis (H₁): The average weight loss is less than 12 kg. (μ < 12)\n"
   ]
  },
  {
   "cell_type": "code",
   "execution_count": 38,
   "metadata": {},
   "outputs": [],
   "source": [
    "# Given data\n",
    "claimed_mean = 12\n",
    "sample_mean = 11.5\n",
    "sample_std = 1.8\n",
    "sample_size = 50"
   ]
  },
  {
   "cell_type": "code",
   "execution_count": 39,
   "metadata": {},
   "outputs": [],
   "source": [
    "# Calculate the Z-score and p-value (one-tailed test)\n",
    "z = (sample_mean - claimed_mean) / (sample_std / np.sqrt(sample_size))\n",
    "p_value = stats.norm.cdf(z) #one-tailed p-value (left tail)"
   ]
  },
  {
   "cell_type": "code",
   "execution_count": 40,
   "metadata": {},
   "outputs": [
    {
     "name": "stdout",
     "output_type": "stream",
     "text": [
      "Z-score: -1.9641855032959654\n",
      "P-value: 0.024754291673078847\n"
     ]
    }
   ],
   "source": [
    "# Output the results\n",
    "print(f\"Z-score: {z}\")\n",
    "print(f\"P-value: {p_value}\")"
   ]
  },
  {
   "cell_type": "code",
   "execution_count": 41,
   "metadata": {},
   "outputs": [
    {
     "name": "stdout",
     "output_type": "stream",
     "text": [
      "Reject the null hypothesis: The average weight loss is significantly less than 12 kg.\n"
     ]
    }
   ],
   "source": [
    "# Conclusion (one-tailed test)\n",
    "if p_value < 0.05:\n",
    "    print(\"Reject the null hypothesis: The average weight loss is significantly less than 12 kg.\")\n",
    "else:\n",
    "    print(\"Fail to reject the null hypothesis: There is not enough evidence to say the average weight loss is less than 12 kg.\")"
   ]
  },
  {
   "cell_type": "code",
   "execution_count": null,
   "metadata": {},
   "outputs": [],
   "source": []
  }
 ],
 "metadata": {
  "kernelspec": {
   "display_name": "python_3_13_0",
   "language": "python",
   "name": "python3"
  },
  "language_info": {
   "codemirror_mode": {
    "name": "ipython",
    "version": 3
   },
   "file_extension": ".py",
   "mimetype": "text/x-python",
   "name": "python",
   "nbconvert_exporter": "python",
   "pygments_lexer": "ipython3",
   "version": "3.13.0"
  }
 },
 "nbformat": 4,
 "nbformat_minor": 2
}
