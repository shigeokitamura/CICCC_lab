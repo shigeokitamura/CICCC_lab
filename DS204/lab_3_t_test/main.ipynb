{
 "cells": [
  {
   "cell_type": "markdown",
   "metadata": {},
   "source": [
    "# In-Class Lab: T-Test (One Sample & Two Sample)"
   ]
  },
  {
   "cell_type": "code",
   "execution_count": 1,
   "metadata": {},
   "outputs": [],
   "source": [
    "from scipy import stats\n",
    "import numpy as np"
   ]
  },
  {
   "cell_type": "markdown",
   "metadata": {},
   "source": [
    "### Exercise 1: One-Sample T-Test - Mean Weight of a Population\n",
    "\n",
    "You have a sample of weights (in kg) from a certain population. Test the\n",
    "hypothesis that the mean weight is 70 kg.\n",
    "* Sample: [72, 68, 75, 71, 69, 70, 73, 68]\n",
    "* Null Hypothesis: The population mean is 70 kg.\n",
    "\n",
    "**Task**: Conduct a one-sample t-test to verify if the population mean is statistically\n",
    "different from 70 kg."
   ]
  },
  {
   "cell_type": "code",
   "execution_count": 2,
   "metadata": {},
   "outputs": [],
   "source": [
    "# One Sample t-test\n",
    "weights = np.array([72, 68, 75, 71, 69, 70, 73, 68])"
   ]
  },
  {
   "cell_type": "code",
   "execution_count": 3,
   "metadata": {},
   "outputs": [],
   "source": [
    "# Hypothesized mean weight\n",
    "popmean = 70"
   ]
  },
  {
   "cell_type": "code",
   "execution_count": 4,
   "metadata": {},
   "outputs": [
    {
     "name": "stdout",
     "output_type": "stream",
     "text": [
      "T statistic: 0.8509629433967633\n",
      "P-value: 0.42294092668021854\n"
     ]
    }
   ],
   "source": [
    "# Perform one-sample t-test\n",
    "t_stat, p_value = stats.ttest_1samp(weights, popmean)\n",
    "print(\"T statistic:\", t_stat)\n",
    "print(\"P-value:\", p_value)"
   ]
  },
  {
   "cell_type": "code",
   "execution_count": 5,
   "metadata": {},
   "outputs": [],
   "source": [
    "# Setting significance level\n",
    "alpha = 0.05"
   ]
  },
  {
   "cell_type": "code",
   "execution_count": 6,
   "metadata": {},
   "outputs": [
    {
     "name": "stdout",
     "output_type": "stream",
     "text": [
      "Fail to reject the null hypothesis; there is no significant difference between the sample mean and the hypothesized mean weight.\n"
     ]
    }
   ],
   "source": [
    "# Interpret the results\n",
    "if p_value < alpha:\n",
    "    print(\"Reject the null hypothesis; there is a significant difference between the sample mean and the hypothesized mean weight.\")\n",
    "else:\n",
    "    print(\"Fail to reject the null hypothesis; there is no significant difference between the sample mean and the hypothesized mean weight.\")"
   ]
  },
  {
   "cell_type": "markdown",
   "metadata": {},
   "source": [
    "Findings: The population mean weight is 70 kg."
   ]
  },
  {
   "cell_type": "markdown",
   "metadata": {},
   "source": [
    "### Exercise 2: One-Sample T-Test - Average Height of Students\n",
    "\n",
    "A school claims the average height of its students is 165 cm. You take a random\n",
    "sample of 10 students:\n",
    "\n",
    "* Sample: [164, 162, 168, 167, 165, 166, 160, 159, 170, 163]\n",
    "* Null Hypothesis: The mean height is 165 cm.\n",
    "\n",
    "**Task**: Test the school’s claim using a one-sample t-test."
   ]
  },
  {
   "cell_type": "code",
   "execution_count": 7,
   "metadata": {},
   "outputs": [],
   "source": [
    "# One Sample t-test\n",
    "heights = np.array([164, 162, 168, 167, 165, 166, 160, 159, 170, 163])"
   ]
  },
  {
   "cell_type": "code",
   "execution_count": 8,
   "metadata": {},
   "outputs": [],
   "source": [
    "# Hypothesized mean height\n",
    "popmean = 165"
   ]
  },
  {
   "cell_type": "code",
   "execution_count": 9,
   "metadata": {},
   "outputs": [
    {
     "name": "stdout",
     "output_type": "stream",
     "text": [
      "T statistic: -0.5417363388859563\n",
      "P-value: 0.6011521875426783\n"
     ]
    }
   ],
   "source": [
    "# Perform one-sample t-test\n",
    "t_stat, p_value = stats.ttest_1samp(heights, popmean)\n",
    "print(\"T statistic:\", t_stat)\n",
    "print(\"P-value:\", p_value)"
   ]
  },
  {
   "cell_type": "code",
   "execution_count": 10,
   "metadata": {},
   "outputs": [
    {
     "name": "stdout",
     "output_type": "stream",
     "text": [
      "Fail to reject the null hypothesis; there is no significant difference between the sample mean and the hypothesized mean height.\n"
     ]
    }
   ],
   "source": [
    "# Interpret the results\n",
    "if p_value < alpha:\n",
    "    print(\"Reject the null hypothesis; there is a significant difference between the sample mean and the hypothesized mean height.\")\n",
    "else:\n",
    "    print(\"Fail to reject the null hypothesis; there is no significant difference between the sample mean and the hypothesized mean height.\")"
   ]
  },
  {
   "cell_type": "markdown",
   "metadata": {},
   "source": [
    "Findings: The mean height is 165 cm as the school's claim."
   ]
  },
  {
   "cell_type": "markdown",
   "metadata": {},
   "source": [
    "### Exercise 3: One-Sample T-Test - Customer Satisfaction Scores\n",
    "\n",
    "A company claims their average customer satisfaction score is 4.5 out of 5. You\n",
    "sample 12 customers:\n",
    "\n",
    "* Sample: [4.2, 4.4, 4.5, 4.7, 4.5, 4.6, 4.4, 4.3, 4.5, 4.6, 4.2, 4.5]\n",
    "* Null Hypothesis: The mean satisfaction score is 4.5.\n",
    "\n",
    "**Task**: Conduct a one-sample t-test to evaluate the company’s claim."
   ]
  },
  {
   "cell_type": "code",
   "execution_count": 11,
   "metadata": {},
   "outputs": [],
   "source": [
    "# One Sample t-test\n",
    "satisfactions = np.array([4.2, 4.4, 4.5, 4.7, 4.5, 4.6, 4.4, 4.3, 4.5, 4.6, 4.2, 4.5])"
   ]
  },
  {
   "cell_type": "code",
   "execution_count": 12,
   "metadata": {},
   "outputs": [],
   "source": [
    "# Hypothesized mean satisfaction score\n",
    "popmean = 4.5"
   ]
  },
  {
   "cell_type": "code",
   "execution_count": 13,
   "metadata": {},
   "outputs": [
    {
     "name": "stdout",
     "output_type": "stream",
     "text": [
      "T statistic: -1.1055415967851299\n",
      "P-value: 0.2925184553957747\n"
     ]
    }
   ],
   "source": [
    "# Perform one-sample t-test\n",
    "t_stat, p_value = stats.ttest_1samp(satisfactions, popmean)\n",
    "print(\"T statistic:\", t_stat)\n",
    "print(\"P-value:\", p_value)"
   ]
  },
  {
   "cell_type": "code",
   "execution_count": 14,
   "metadata": {},
   "outputs": [
    {
     "name": "stdout",
     "output_type": "stream",
     "text": [
      "Fail to reject the null hypothesis; there is no significant difference between the sample mean and the hypothesized mean satisfaction score.\n"
     ]
    }
   ],
   "source": [
    "# Interpret the results\n",
    "if p_value < alpha:\n",
    "    print(\"Reject the null hypothesis; there is a significant difference between the sample mean and the hypothesized mean satisfaction score.\")\n",
    "else:\n",
    "    print(\"Fail to reject the null hypothesis; there is no significant difference between the sample mean and the hypothesized mean satisfaction score.\")"
   ]
  },
  {
   "cell_type": "markdown",
   "metadata": {},
   "source": [
    "Findings: The company's average customer satisfaction score is 4.5 out of 5 as their claim."
   ]
  },
  {
   "cell_type": "markdown",
   "metadata": {},
   "source": [
    "### Exercise 4: Two-Sample T-Test - Exam Scores of Two Classes\n",
    "\n",
    "Compare the exam scores of two different classes:\n",
    "* Class A: [85, 78, 90, 88, 84, 91, 89]\n",
    "* Class B: [82, 80, 88, 86, 85, 79, 87]\n",
    "\n",
    "**Task**: Perform a two-sample t-test to check if there is a significant difference in\n",
    "the mean exam scores between the two classes."
   ]
  },
  {
   "cell_type": "code",
   "execution_count": 15,
   "metadata": {},
   "outputs": [],
   "source": [
    "# Two Sample t-test\n",
    "scores_a = np.array([85, 78, 90, 88, 84, 91, 89])\n",
    "scores_b = np.array([82, 80, 88, 86, 85, 79, 87])"
   ]
  },
  {
   "cell_type": "code",
   "execution_count": 16,
   "metadata": {},
   "outputs": [
    {
     "name": "stdout",
     "output_type": "stream",
     "text": [
      "T statistic: 1.1886087235395915\n",
      "P-value: 0.257584411334151\n"
     ]
    }
   ],
   "source": [
    "# Perform two-sample t-test\n",
    "t_stat, p_value = stats.ttest_ind(scores_a, scores_b)\n",
    "print(\"T statistic:\", t_stat)\n",
    "print(\"P-value:\", p_value)"
   ]
  },
  {
   "cell_type": "code",
   "execution_count": 17,
   "metadata": {},
   "outputs": [
    {
     "name": "stdout",
     "output_type": "stream",
     "text": [
      "Fail to reject the null hypothesis; there is no significant difference between the mean exam scores of Class A and the mean exam scores of Class B.\n"
     ]
    }
   ],
   "source": [
    "# Interpret the results\n",
    "if p_value < alpha:\n",
    "    print(\"Reject the null hypothesis; there is a significant difference between the mean exam scores of Class A and the mean exam scores of Class B.\")\n",
    "else:\n",
    "    print(\"Fail to reject the null hypothesis; there is no significant difference between the mean exam scores of Class A and the mean exam scores of Class B.\")"
   ]
  },
  {
   "cell_type": "markdown",
   "metadata": {},
   "source": [
    "Findings: There is no significant difference in the exam mean scores between the two classes."
   ]
  },
  {
   "cell_type": "markdown",
   "metadata": {},
   "source": [
    "### Exercise 5: Two-Sample T-Test - Sales Performance Before and After Training\n",
    "\n",
    "A sales team underwent a training program, and their sales were recorded before\n",
    "and after the training:\n",
    "* Before: [1200, 1300, 1250, 1400, 1350, 1500]\n",
    "* After: [1450, 1380, 1550, 1600, 1500, 1580]\n",
    "\n",
    "**Task**: Conduct a two-sample t-test to assess if the training significantly improved\n",
    "sales performance."
   ]
  },
  {
   "cell_type": "code",
   "execution_count": 18,
   "metadata": {},
   "outputs": [],
   "source": [
    "# Two Sample t-test\n",
    "performances_a = np.array([1200, 1300, 1250, 1400, 1350, 1500])\n",
    "performances_b = np.array([1450, 1380, 1550, 1600, 1500, 1580])"
   ]
  },
  {
   "cell_type": "code",
   "execution_count": 19,
   "metadata": {},
   "outputs": [
    {
     "name": "stdout",
     "output_type": "stream",
     "text": [
      "T statistic: -3.163967663492102\n",
      "P-value: 0.010090540561009647\n"
     ]
    }
   ],
   "source": [
    "# Perform two-sample t-test\n",
    "t_stat, p_value = stats.ttest_ind(performances_a, performances_b)\n",
    "print(\"T statistic:\", t_stat)\n",
    "print(\"P-value:\", p_value)"
   ]
  },
  {
   "cell_type": "code",
   "execution_count": 20,
   "metadata": {},
   "outputs": [
    {
     "name": "stdout",
     "output_type": "stream",
     "text": [
      "Reject the null hypothesis; there is a significant difference between the sales performance before training and the sales performance after training.\n"
     ]
    }
   ],
   "source": [
    "# Interpret the results\n",
    "if p_value < alpha:\n",
    "    print(\"Reject the null hypothesis; there is a significant difference between the sales performance before training and the sales performance after training.\")\n",
    "else:\n",
    "    print(\"Fail to reject the null hypothesis; there is no significant difference between the sales performance before training and the sales performance after training.\")"
   ]
  },
  {
   "cell_type": "markdown",
   "metadata": {},
   "source": [
    "Findings: The training significantly improved sales performance."
   ]
  },
  {
   "cell_type": "markdown",
   "metadata": {},
   "source": [
    "### Exercise 6: Two-Sample T-Test - Blood Pressure Medication\n",
    "You are given two groups: one taking a blood pressure medication and one taking\n",
    "a placebo. Their blood pressure reduction is measured:\n",
    "* Medication group: [10, 12, 9, 14, 11, 13]\n",
    "* Placebo group: [3, 5, 2, 4, 6, 5]\n",
    "\n",
    "**Task**: Use a two-sample t-test to determine whether the medication has a\n",
    "statistically significant effect on blood pressure."
   ]
  },
  {
   "cell_type": "code",
   "execution_count": 21,
   "metadata": {},
   "outputs": [],
   "source": [
    "# Two Sample t-test\n",
    "blood_pressures_a = np.array([10, 12, 9, 14, 11, 13])\n",
    "blood_pressures_b = np.array([3, 5, 2, 4, 6, 5])"
   ]
  },
  {
   "cell_type": "code",
   "execution_count": 22,
   "metadata": {},
   "outputs": [
    {
     "name": "stdout",
     "output_type": "stream",
     "text": [
      "T statistic: 7.545937746270389\n",
      "P-value: 1.9570173447435993e-05\n"
     ]
    }
   ],
   "source": [
    "# Perform two-sample t-test\n",
    "t_stat, p_value = stats.ttest_ind(blood_pressures_a, blood_pressures_b)\n",
    "print(\"T statistic:\", t_stat)\n",
    "print(\"P-value:\", p_value)"
   ]
  },
  {
   "cell_type": "code",
   "execution_count": 23,
   "metadata": {},
   "outputs": [
    {
     "name": "stdout",
     "output_type": "stream",
     "text": [
      "Reject the null hypothesis; there is a significant difference between the blood pressures in medication group and the blood pressures in placebo group.\n"
     ]
    }
   ],
   "source": [
    "# Interpret the results\n",
    "if p_value < alpha:\n",
    "    print(\"Reject the null hypothesis; there is a significant difference between the blood pressures in medication group and the blood pressures in placebo group.\")\n",
    "else:\n",
    "    print(\"Fail to reject the null hypothesis; there is no significant difference between the blood pressures in medication group and the blood pressures in placebo group.\")"
   ]
  },
  {
   "cell_type": "markdown",
   "metadata": {},
   "source": [
    "Findings: The medication has a statistically significant effect on blood pressure."
   ]
  },
  {
   "cell_type": "markdown",
   "metadata": {},
   "source": [
    "### Exercise 7: One-Sample T-Test - Test if a Coin is Fair\n",
    "You flip a coin 100 times, and it lands on heads 58 times. A fair coin should have\n",
    "50 heads out of 100 flips.\n",
    "* Null Hypothesis: The proportion of heads is 0.50.\n",
    "\n",
    "**Task**: Perform a one-sample t-test on the proportion of heads to determine if the\n",
    "coin is biased."
   ]
  },
  {
   "cell_type": "code",
   "execution_count": 24,
   "metadata": {},
   "outputs": [],
   "source": [
    "# One Sample t-test\n",
    "proportions = np.concatenate((np.zeros(58, dtype=int), np.ones(42, dtype=int)))"
   ]
  },
  {
   "cell_type": "code",
   "execution_count": 25,
   "metadata": {},
   "outputs": [],
   "source": [
    "# Hypothesized proportion of heads\n",
    "popmean = 0.50"
   ]
  },
  {
   "cell_type": "code",
   "execution_count": 26,
   "metadata": {},
   "outputs": [
    {
     "name": "stdout",
     "output_type": "stream",
     "text": [
      "T statistic: -1.612757024996288\n",
      "P-value: 0.10998066941759047\n"
     ]
    }
   ],
   "source": [
    "# Perform one-sample t-test\n",
    "t_stat, p_value = stats.ttest_1samp(proportions, popmean)\n",
    "print(\"T statistic:\", t_stat)\n",
    "print(\"P-value:\", p_value)"
   ]
  },
  {
   "cell_type": "code",
   "execution_count": 27,
   "metadata": {},
   "outputs": [
    {
     "name": "stdout",
     "output_type": "stream",
     "text": [
      "Fail to reject the null hypothesis; the coin is not biased.\n"
     ]
    }
   ],
   "source": [
    "# Interpret the results\n",
    "if p_value < alpha:\n",
    "    print(\"Reject the null hypothesis; the coin is biased.\")\n",
    "else:\n",
    "    print(\"Fail to reject the null hypothesis; the coin is not biased.\")"
   ]
  },
  {
   "cell_type": "markdown",
   "metadata": {},
   "source": [
    "Findings: The coin is not biased."
   ]
  },
  {
   "cell_type": "markdown",
   "metadata": {},
   "source": [
    "### Exercise 8: Two-Sample T-Test - Comparison of Test Scores\n",
    "\n",
    "A researcher believes that students who study with music perform differently than\n",
    "those who study in silence. You have two groups:\n",
    "* Music: [80, 85, 78, 90, 87, 76]\n",
    "* Silence: [88, 82, 84, 89, 91, 85]\n",
    "\n",
    "**Task**: Use a two-sample t-test to compare the test scores of both groups and\n",
    "determine if the difference is significant."
   ]
  },
  {
   "cell_type": "code",
   "execution_count": 28,
   "metadata": {},
   "outputs": [],
   "source": [
    "# Two Sample t-test\n",
    "scores_music = np.array([80, 85, 78, 90, 87, 76])\n",
    "scores_silence = np.array([88, 82, 84, 89, 91, 85])"
   ]
  },
  {
   "cell_type": "code",
   "execution_count": 29,
   "metadata": {},
   "outputs": [
    {
     "name": "stdout",
     "output_type": "stream",
     "text": [
      "T statistic: -1.4529052821772128\n",
      "P-value: 0.1768975161673121\n"
     ]
    }
   ],
   "source": [
    "# Perform two-sample t-test\n",
    "t_stat, p_value = stats.ttest_ind(scores_music, scores_silence)\n",
    "print(\"T statistic:\", t_stat)\n",
    "print(\"P-value:\", p_value)"
   ]
  },
  {
   "cell_type": "code",
   "execution_count": 30,
   "metadata": {},
   "outputs": [
    {
     "name": "stdout",
     "output_type": "stream",
     "text": [
      "Fail to reject the null hypothesis; there is no significant difference between the test scores in studied with music group and the test scores in studied with silence group.\n"
     ]
    }
   ],
   "source": [
    "# Interpret the results\n",
    "if p_value < alpha:\n",
    "    print(\"Reject the null hypothesis; there is a significant difference between the test scores in studied with music group and the test scores in studied with silence group.\")\n",
    "else:\n",
    "    print(\"Fail to reject the null hypothesis; there is no significant difference between the test scores in studied with music group and the test scores in studied with silence group.\")"
   ]
  },
  {
   "cell_type": "markdown",
   "metadata": {},
   "source": [
    "Findings: The difference of two groups is not significant. Studying with music does not affect test scores."
   ]
  },
  {
   "cell_type": "markdown",
   "metadata": {},
   "source": [
    "### Exercise 9: One-Sample T-Test - Average Lifespan of a Product\n",
    "A manufacturer claims that the average lifespan of their product is 5 years. A\n",
    "sample of products shows these lifespans:\n",
    "* Sample: [4.8, 5.1, 4.9, 5.3, 4.7, 5.2, 5.0, 4.9]\n",
    "\n",
    "**Task**: Perform a one-sample t-test to check if the manufacturer’s claim is\n",
    "statistically valid."
   ]
  },
  {
   "cell_type": "code",
   "execution_count": 31,
   "metadata": {},
   "outputs": [],
   "source": [
    "# One Sample t-test\n",
    "lifespans = np.array([4.8, 5.1, 4.9, 5.3, 4.7, 5.2, 5.0, 4.9])"
   ]
  },
  {
   "cell_type": "code",
   "execution_count": 32,
   "metadata": {},
   "outputs": [],
   "source": [
    "# Hypothesized average lifespan\n",
    "popmean = 5"
   ]
  },
  {
   "cell_type": "code",
   "execution_count": 33,
   "metadata": {},
   "outputs": [
    {
     "name": "stdout",
     "output_type": "stream",
     "text": [
      "T statistic: -0.17407765595570038\n",
      "P-value: 0.8667318497550061\n"
     ]
    }
   ],
   "source": [
    "# Perform one-sample t-test\n",
    "t_stat, p_value = stats.ttest_1samp(lifespans, popmean)\n",
    "print(\"T statistic:\", t_stat)\n",
    "print(\"P-value:\", p_value)"
   ]
  },
  {
   "cell_type": "code",
   "execution_count": 34,
   "metadata": {},
   "outputs": [
    {
     "name": "stdout",
     "output_type": "stream",
     "text": [
      "Fail to reject the null hypothesis; there is no significant difference between the claimed mean and the hypothesized mean lifespan.\n"
     ]
    }
   ],
   "source": [
    "# Interpret the results\n",
    "if p_value < alpha:\n",
    "    print(\"Reject the null hypothesis; there is a significant difference between the claimed mean and the hypothesized mean lifespan.\")\n",
    "else:\n",
    "    print(\"Fail to reject the null hypothesis; there is no significant difference between the claimed mean and the hypothesized mean lifespan.\")"
   ]
  },
  {
   "cell_type": "markdown",
   "metadata": {},
   "source": [
    "Findings: The manufacturer's claim is statistically valid. The average lifespan of their product is 5 years."
   ]
  },
  {
   "cell_type": "markdown",
   "metadata": {},
   "source": [
    "### Exercise 10: Two-Sample T-Test - Average Income of Two Cities\n",
    "Compare the average income of two cities based on a sample of residents:\n",
    "* City A: [45000, 48000, 47000, 50000, 49000, 46000]\n",
    "* City B: [43000, 42000, 44000, 41000, 45000, 43000]\n",
    "\n",
    "**Task**: Conduct a two-sample t-test to determine if there is a significant difference\n",
    "in income between the two cities."
   ]
  },
  {
   "cell_type": "code",
   "execution_count": 35,
   "metadata": {},
   "outputs": [],
   "source": [
    "# Two Sample t-test\n",
    "incomes_a = np.array([45000, 48000, 47000, 50000, 49000, 46000])\n",
    "incomes_b = np.array([43000, 42000, 44000, 41000, 45000, 43000])"
   ]
  },
  {
   "cell_type": "code",
   "execution_count": 36,
   "metadata": {},
   "outputs": [
    {
     "name": "stdout",
     "output_type": "stream",
     "text": [
      "T statistic: 4.700096710803842\n",
      "P-value: 0.0008414426956321737\n"
     ]
    }
   ],
   "source": [
    "# Perform two-sample t-test\n",
    "t_stat, p_value = stats.ttest_ind(incomes_a, incomes_b)\n",
    "print(\"T statistic:\", t_stat)\n",
    "print(\"P-value:\", p_value)"
   ]
  },
  {
   "cell_type": "code",
   "execution_count": 37,
   "metadata": {},
   "outputs": [
    {
     "name": "stdout",
     "output_type": "stream",
     "text": [
      "Reject the null hypothesis; there is a significant difference in income between city A and city B.\n"
     ]
    }
   ],
   "source": [
    "# Interpret the results\n",
    "if p_value < alpha:\n",
    "    print(\"Reject the null hypothesis; there is a significant difference in income between city A and city B.\")\n",
    "else:\n",
    "    print(\"Fail to reject the null hypothesis; there is no significant difference in income between city A and city B.\")"
   ]
  },
  {
   "cell_type": "markdown",
   "metadata": {},
   "source": [
    "Findings: There is a significant difference in income between the two cities."
   ]
  },
  {
   "cell_type": "code",
   "execution_count": null,
   "metadata": {},
   "outputs": [],
   "source": []
  }
 ],
 "metadata": {
  "kernelspec": {
   "display_name": "python_3_13_0",
   "language": "python",
   "name": "python3"
  },
  "language_info": {
   "codemirror_mode": {
    "name": "ipython",
    "version": 3
   },
   "file_extension": ".py",
   "mimetype": "text/x-python",
   "name": "python",
   "nbconvert_exporter": "python",
   "pygments_lexer": "ipython3",
   "version": "3.13.0"
  }
 },
 "nbformat": 4,
 "nbformat_minor": 2
}
